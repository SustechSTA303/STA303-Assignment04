{
 "cells": [
  {
   "cell_type": "markdown",
   "metadata": {},
   "source": [
    "# Regression"
   ]
  },
  {
   "cell_type": "code",
   "execution_count": 33,
   "metadata": {},
   "outputs": [],
   "source": [
    "import numpy as np\n",
    "import torch\n",
    "import torch.nn as nn\n",
    "from torch.utils.data import TensorDataset\n",
    "from sklearn.preprocessing import StandardScaler\n",
    "\n",
    "from torchcp.regression.predictors import SplitPredictor,CQR,ACI\n",
    "from torchcp.regression.loss import QuantileLoss\n",
    "from torchcp.utils import fix_randomness\n",
    "import pandas as pd"
   ]
  },
  {
   "cell_type": "code",
   "execution_count": 34,
   "metadata": {},
   "outputs": [],
   "source": [
    "def train(model, device, epoch, train_data_loader, criterion, optimizer):\n",
    "    for index, (tmp_x, tmp_y) in enumerate(train_data_loader):\n",
    "        outputs = model(tmp_x.to(device))\n",
    "        loss = criterion(outputs, tmp_y.unsqueeze(dim=1).to(device))\n",
    "        optimizer.zero_grad()\n",
    "        loss.backward()\n",
    "        optimizer.step()"
   ]
  },
  {
   "cell_type": "code",
   "execution_count": 35,
   "metadata": {},
   "outputs": [],
   "source": [
    "device = torch.device(\"cuda:0\" if torch.cuda.is_available() else \"cpu\")\n",
    "fix_randomness(seed=1)"
   ]
  },
  {
   "cell_type": "markdown",
   "metadata": {},
   "source": [
    "## Data"
   ]
  },
  {
   "cell_type": "code",
   "execution_count": 36,
   "metadata": {},
   "outputs": [],
   "source": [
    "attrib = pd.read_csv(\"/data/lab/STA303-Exercise02/attributes.csv\", delim_whitespace=True)\n",
    "data = pd.read_csv('/data/lab/STA303-Exercise02/communities.data', names=attrib['attributes'])\n",
    "data = data.drop(columns=['state', 'county',\n",
    "                          'community', 'communityname',\n",
    "                          'fold'], axis=1)\n",
    "data = data.replace('?', np.nan)\n",
    "\n",
    "# Impute mean values for samples with missing values\n",
    "data['OtherPerCap'] = data['OtherPerCap'].astype(\"float\")\n",
    "mean_value = data['OtherPerCap'].mean()\n",
    "data['OtherPerCap'].fillna(value=mean_value, inplace=True)\n",
    "data = data.dropna(axis=1)\n",
    "X = data.iloc[:, 0:100].values\n",
    "y = data.iloc[:, 100].values\n",
    "\n",
    "X = X.astype(np.float32)\n",
    "y = y.astype(np.float32)"
   ]
  },
  {
   "cell_type": "code",
   "execution_count": 38,
   "metadata": {},
   "outputs": [
    {
     "data": {
      "text/plain": [
       "(1994, 100)"
      ]
     },
     "execution_count": 38,
     "metadata": {},
     "output_type": "execute_result"
    }
   ],
   "source": [
    "X.shape"
   ]
  },
  {
   "cell_type": "code",
   "execution_count": 39,
   "metadata": {},
   "outputs": [
    {
     "data": {
      "text/plain": [
       "(1994,)"
      ]
     },
     "execution_count": 39,
     "metadata": {},
     "output_type": "execute_result"
    }
   ],
   "source": [
    "y.shape"
   ]
  },
  {
   "cell_type": "code",
   "execution_count": 29,
   "metadata": {},
   "outputs": [],
   "source": [
    "indices = np.arange(X.shape[0])\n",
    "np.random.shuffle(indices)\n",
    "split_index1 = int(len(indices) * 0.4)\n",
    "split_index2 = int(len(indices) * 0.6)\n",
    "part1, part2, part3 = np.split(indices, [split_index1, split_index2])\n",
    "scalerX = StandardScaler()\n",
    "scalerX = scalerX.fit(X[part1, :])\n",
    "train_dataset = TensorDataset(torch.from_numpy(scalerX.transform(X[part1, :])), torch.from_numpy(y[part1]))\n",
    "cal_dataset = TensorDataset(torch.from_numpy(scalerX.transform(X[part2, :])), torch.from_numpy(y[part2]))\n",
    "test_dataset = TensorDataset(torch.from_numpy(scalerX.transform(X[part3, :])), torch.from_numpy(y[part3]))\n",
    "\n",
    "train_data_loader = torch.utils.data.DataLoader(train_dataset, batch_size=100, shuffle=True, pin_memory=True)\n",
    "cal_data_loader = torch.utils.data.DataLoader(cal_dataset, batch_size=100, shuffle=False, pin_memory=True)\n",
    "test_data_loader = torch.utils.data.DataLoader(test_dataset, batch_size=100, shuffle=False, pin_memory=True)\n",
    "\n",
    "epochs = 100\n",
    "alpha = 0.1"
   ]
  },
  {
   "cell_type": "markdown",
   "metadata": {},
   "source": [
    "## NonLinNet"
   ]
  },
  {
   "cell_type": "code",
   "execution_count": 30,
   "metadata": {},
   "outputs": [],
   "source": [
    "class NonLinearNet(nn.Module):\n",
    "    def __init__(self, in_shape, out_shape, hidden_size, dropout):\n",
    "        super(NonLinearNet, self).__init__()\n",
    "        self.hidden_size = hidden_size\n",
    "        self.in_shape = in_shape\n",
    "        self.out_shape = out_shape\n",
    "        self.dropout = dropout\n",
    "        self.base_model = nn.Sequential(\n",
    "            nn.Linear(self.in_shape, self.hidden_size),\n",
    "            nn.ReLU(),\n",
    "            nn.Dropout(self.dropout),\n",
    "            nn.Linear(self.hidden_size, self.hidden_size),\n",
    "            nn.ReLU(),\n",
    "            nn.Dropout(self.dropout),\n",
    "            nn.Linear(self.hidden_size, self.out_shape),\n",
    "        )\n",
    "\n",
    "    def forward(self, x):\n",
    "        return self.base_model(x)"
   ]
  },
  {
   "cell_type": "markdown",
   "metadata": {},
   "source": [
    "## MSELoss"
   ]
  },
  {
   "cell_type": "code",
   "execution_count": 31,
   "metadata": {},
   "outputs": [
    {
     "name": "stdout",
     "output_type": "stream",
     "text": [
      "{'Coverage_rate': 0.9110275506973267, 'Average_size': 0.5448101758956909}\n"
     ]
    }
   ],
   "source": [
    "model = NonLinearNet(X.shape[1], 1, 64, 0.5).to(device)\n",
    "criterion = nn.MSELoss()\n",
    "optimizer = torch.optim.Adam(model.parameters(), lr=0.01)\n",
    "\n",
    "for epoch in range(epochs):\n",
    "    train(model, device, epoch, train_data_loader, criterion, optimizer)\n",
    "    \n",
    "model.eval()\n",
    "predictor = SplitPredictor(model)\n",
    "predictor.calibrate(cal_data_loader, alpha)\n",
    "print(predictor.evaluate(test_data_loader))"
   ]
  },
  {
   "cell_type": "markdown",
   "metadata": {},
   "source": [
    "## QuantileLoss"
   ]
  },
  {
   "cell_type": "code",
   "execution_count": 32,
   "metadata": {},
   "outputs": [
    {
     "name": "stdout",
     "output_type": "stream",
     "text": [
      "{'Coverage_rate': 0.9360902309417725, 'Average_size': 0.48810264468193054}\n"
     ]
    }
   ],
   "source": [
    "quantiles = [alpha / 2, 1 - alpha / 2]\n",
    "model = NonLinearNet(X.shape[1], 2, 64, 0.5).to(device)\n",
    "criterion = QuantileLoss(quantiles)\n",
    "optimizer = torch.optim.Adam(model.parameters(), lr=0.01)\n",
    "\n",
    "for epoch in range(epochs):\n",
    "    train(model, device, epoch, train_data_loader, criterion, optimizer)\n",
    "\n",
    "model.eval()\n",
    "predictor = CQR(model)\n",
    "predictor.calibrate(cal_data_loader, alpha)\n",
    "print(predictor.evaluate(test_data_loader))"
   ]
  },
  {
   "cell_type": "code",
   "execution_count": null,
   "metadata": {},
   "outputs": [],
   "source": []
  }
 ],
 "metadata": {
  "kernelspec": {
   "display_name": "Python 3 (ipykernel)",
   "language": "python",
   "name": "python3"
  },
  "language_info": {
   "codemirror_mode": {
    "name": "ipython",
    "version": 3
   },
   "file_extension": ".py",
   "mimetype": "text/x-python",
   "name": "python",
   "nbconvert_exporter": "python",
   "pygments_lexer": "ipython3",
   "version": "3.10.12"
  }
 },
 "nbformat": 4,
 "nbformat_minor": 4
}
